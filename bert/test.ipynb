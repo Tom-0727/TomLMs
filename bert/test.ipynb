{
 "cells": [
  {
   "cell_type": "code",
   "execution_count": 1,
   "metadata": {},
   "outputs": [],
   "source": [
    "import torch\n",
    "import torch.nn as nn"
   ]
  },
  {
   "cell_type": "code",
   "execution_count": 3,
   "metadata": {},
   "outputs": [
    {
     "name": "stdout",
     "output_type": "stream",
     "text": [
      "torch.Size([2, 3, 4])\n"
     ]
    }
   ],
   "source": [
    "k = torch.randn(2,3,4)\n",
    "print(k.shape)"
   ]
  },
  {
   "cell_type": "code",
   "execution_count": 8,
   "metadata": {},
   "outputs": [
    {
     "name": "stdout",
     "output_type": "stream",
     "text": [
      "torch.Size([2, 2, 2])\n"
     ]
    }
   ],
   "source": [
    "k_class = nn.Linear(4, 2)\n",
    "k_class.weight.data = torch.tensor([[1, 2, 3, 4], [5, 6, 7, 8]], dtype=torch.float32)\n",
    "k_class.bias.data = torch.tensor([1, 2], dtype=torch.float32)\n",
    "\n",
    "opt = k_class(k[:, 1:,:])\n",
    "print(opt.shape)"
   ]
  },
  {
   "cell_type": "code",
   "execution_count": 3,
   "metadata": {},
   "outputs": [
    {
     "data": {
      "text/plain": [
       "BERT(\n",
       "  (joint_embeddings): JointEmbeddings(\n",
       "    (word_embed): WordEmbedding(\n",
       "      (embed): Embedding(12000, 768)\n",
       "    )\n",
       "    (pos_embed): PositionEmbedding()\n",
       "    (seg_embed): SegmentEmbedding(\n",
       "      (embed): Embedding(3, 768)\n",
       "    )\n",
       "    (dropout): Dropout(p=0.1, inplace=False)\n",
       "  )\n",
       "  (backbone): BERTBackbone(\n",
       "    (layers): ModuleList(\n",
       "      (0-11): 12 x EncodeBlock(\n",
       "        (attention): MultiHeadAttention(\n",
       "          (Q): Linear(in_features=768, out_features=768, bias=True)\n",
       "          (K): Linear(in_features=768, out_features=768, bias=True)\n",
       "          (V): Linear(in_features=768, out_features=768, bias=True)\n",
       "          (out): Linear(in_features=768, out_features=768, bias=True)\n",
       "        )\n",
       "        (norm1): LayerNorm((768,), eps=1e-05, elementwise_affine=True)\n",
       "        (dropout1): Dropout(p=0.1, inplace=False)\n",
       "        (feed_forward): Sequential(\n",
       "          (0): Linear(in_features=768, out_features=3072, bias=True)\n",
       "          (1): GELU(approximate='none')\n",
       "          (2): Linear(in_features=3072, out_features=768, bias=True)\n",
       "        )\n",
       "        (norm2): LayerNorm((768,), eps=1e-05, elementwise_affine=True)\n",
       "        (dropout2): Dropout(p=0.1, inplace=False)\n",
       "      )\n",
       "    )\n",
       "  )\n",
       "  (mlm_head): MLMHead(\n",
       "    (linear): Linear(in_features=768, out_features=12000, bias=True)\n",
       "    (softmax): LogSoftmax(dim=-1)\n",
       "  )\n",
       "  (nsp_head): NSPHead(\n",
       "    (linear): Linear(in_features=768, out_features=2, bias=True)\n",
       "    (softmax): LogSoftmax(dim=-1)\n",
       "  )\n",
       ")"
      ]
     },
     "execution_count": 3,
     "metadata": {},
     "output_type": "execute_result"
    }
   ],
   "source": [
    "from backbone import *\n",
    "\n",
    "model = BERT(embed_dim = 768,\n",
    "                 num_heads = 12,\n",
    "                 expansion_factor = 4,\n",
    "                 num_layers = 12,\n",
    "                 max_seq_len = 256,\n",
    "                 vocab_size = 12000)\n",
    "\n",
    "model"
   ]
  }
 ],
 "metadata": {
  "kernelspec": {
   "display_name": "transformers",
   "language": "python",
   "name": "python3"
  },
  "language_info": {
   "codemirror_mode": {
    "name": "ipython",
    "version": 3
   },
   "file_extension": ".py",
   "mimetype": "text/x-python",
   "name": "python",
   "nbconvert_exporter": "python",
   "pygments_lexer": "ipython3",
   "version": "3.11.4"
  },
  "orig_nbformat": 4
 },
 "nbformat": 4,
 "nbformat_minor": 2
}
