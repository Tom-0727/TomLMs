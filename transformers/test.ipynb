{
 "cells": [
  {
   "cell_type": "markdown",
   "metadata": {},
   "source": [
    "# Data Preparation"
   ]
  },
  {
   "cell_type": "code",
   "execution_count": 7,
   "metadata": {},
   "outputs": [],
   "source": [
    "import os\n",
    "import requests\n",
    "\n",
    "def get_iwsltenvi_data(save: bool = True):\n",
    "    train_en_url = 'https://nlp.stanford.edu/projects/nmt/data/iwslt15.en-vi/train.en'\n",
    "    train_vi_url = 'https://nlp.stanford.edu/projects/nmt/data/iwslt15.en-vi/train.vi'\n",
    "    test_en_url = 'https://nlp.stanford.edu/projects/nmt/data/iwslt15.en-vi/tst2013.en'\n",
    "    test_vi_url = 'https://nlp.stanford.edu/projects/nmt/data/iwslt15.en-vi/tst2013.vi'\n",
    "\n",
    "    train_en = requests.get(train_en_url).text\n",
    "    train_vi = requests.get(train_vi_url).text\n",
    "    test_en = requests.get(test_en_url).text\n",
    "    test_vi = requests.get(test_vi_url).text\n",
    "\n",
    "    store_pth = './data/iwsltenvi/'\n",
    "    os.makedirs(store_pth, exist_ok=True)\n",
    "    print('The Data would be stored in: ', store_pth)\n",
    "\n",
    "    if save:\n",
    "        with open(f'{store_pth}train_en.txt', 'w') as f:\n",
    "            f.write(train_en)\n",
    "        with open(f'{store_pth}train_vi.txt', 'w') as f:\n",
    "            f.write(train_vi)\n",
    "        with open(f'{store_pth}test_en.txt', 'w') as f:\n",
    "            f.write(test_en)\n",
    "        with open(f'{store_pth}test_vi.txt', 'w') as f:\n",
    "            f.write(test_vi)\n",
    "    \n",
    "    print('Done!')\n",
    "    \n"
   ]
  },
  {
   "cell_type": "code",
   "execution_count": 100,
   "metadata": {},
   "outputs": [],
   "source": [
    "import torch\n",
    "\n",
    "import torch.nn as nn\n",
    "\n",
    "import torch.nn.functional as F\n",
    "\n",
    "class test(nn.Module):\n",
    "    def __init__(self, embeded_dim, n_heads=8):\n",
    "        super(test, self).__init__()\n",
    "\n",
    "        # Basic Attributes\n",
    "        self.embeded_dim = embeded_dim\n",
    "        self.n_heads = n_heads\n",
    "        self.dk = embeded_dim // n_heads\n",
    "\n",
    "        # Query, Key, Value : input_dim = d_model//n_heads = dk\n",
    "        self.Q = nn.Linear(self.embeded_dim, self.embeded_dim, bias=False)\n",
    "        self.K = nn.Linear(self.embeded_dim, self.embeded_dim, bias=False)\n",
    "        self.V = nn.Linear(self.embeded_dim, self.embeded_dim, bias=False)\n",
    "\n",
    "        self.out = nn.Linear(self.n_heads * self.dk, self.embeded_dim)\n",
    "    \n",
    "    def forward(self, x):\n",
    "        # x: batch_size x seq_length x input_dim\n",
    "        batch_size = x.shape[0]\n",
    "        seq_length = x.shape[1]\n",
    "\n",
    "        # batch_size x seq_length x embeded_dim -> batch_size x seq_length x n_heads x dk -> batch_size x n_heads x seq_length x dk\n",
    "        query = self.Q(x).view(batch_size, seq_length, self.n_heads, self.dk).transpose(1, 2)\n",
    "        key = self.K(x).view(batch_size, seq_length, self.n_heads, self.dk).transpose(1, 2)\n",
    "        value = self.V(x).view(batch_size, seq_length, self.n_heads, self.dk).transpose(1, 2)\n",
    "        print(query.shape, key.shape, value.shape)\n",
    "        \n",
    "        t1 = torch.matmul(query, key.transpose(-1, -2))\n",
    "        print(t1.shape)\n",
    "\n",
    "        out = F.softmax(torch.matmul(query, key.transpose(-1, -2))/self.dk, dim=-1) @ value\n",
    "\n",
    "        return out"
   ]
  },
  {
   "cell_type": "code",
   "execution_count": 70,
   "metadata": {},
   "outputs": [
    {
     "name": "stdout",
     "output_type": "stream",
     "text": [
      "tensor([[[ 0.7161, -0.6844, -0.3527,  ...,  0.3822, -0.8768, -0.2211],\n",
      "         [-0.3501,  0.1464, -0.3773,  ..., -1.0206,  1.6364,  0.3222],\n",
      "         [ 0.2844, -0.2456, -1.5573,  ...,  0.2985,  1.2504,  0.4836]],\n",
      "\n",
      "        [[ 0.1789, -0.5546,  1.5709,  ..., -0.7770,  0.5980,  1.0149],\n",
      "         [ 1.0401, -1.0058,  0.4600,  ...,  1.6577,  0.5777,  0.1325],\n",
      "         [ 0.5442, -2.3042, -0.2675,  ...,  0.6823, -0.3283, -2.7384]]])\n"
     ]
    }
   ],
   "source": [
    "# x: batch_size, seq_len, d_model\n",
    "x_size = (2, 3, 512)\n",
    "\n",
    "x = torch.randn(x_size)\n",
    "print(x)"
   ]
  },
  {
   "cell_type": "code",
   "execution_count": 101,
   "metadata": {},
   "outputs": [],
   "source": [
    "test_layer = test(embeded_dim=512)"
   ]
  },
  {
   "cell_type": "code",
   "execution_count": 102,
   "metadata": {},
   "outputs": [
    {
     "name": "stdout",
     "output_type": "stream",
     "text": [
      "torch.Size([2, 8, 3, 64]) torch.Size([2, 8, 3, 64]) torch.Size([2, 8, 3, 64])\n",
      "torch.Size([2, 8, 3, 3])\n",
      "torch.Size([2, 8, 3, 64])\n"
     ]
    }
   ],
   "source": [
    "output = test_layer(x)\n",
    "print(output.shape)"
   ]
  },
  {
   "cell_type": "code",
   "execution_count": 95,
   "metadata": {},
   "outputs": [
    {
     "name": "stdout",
     "output_type": "stream",
     "text": [
      "torch.Size([2, 3, 512])\n"
     ]
    }
   ],
   "source": [
    "test_tensor = torch.randn((2, 3, 512))\n",
    "print(test_tensor.shape)"
   ]
  },
  {
   "cell_type": "code",
   "execution_count": 97,
   "metadata": {},
   "outputs": [
    {
     "name": "stdout",
     "output_type": "stream",
     "text": [
      "torch.Size([2, 3, 64, 8])\n"
     ]
    }
   ],
   "source": [
    "c = test_tensor.reshape(2, 3, 8, -1).transpose(-1,-2)\n",
    "print(c.shape)\n"
   ]
  },
  {
   "cell_type": "code",
   "execution_count": 99,
   "metadata": {},
   "outputs": [
    {
     "name": "stdout",
     "output_type": "stream",
     "text": [
      "torch.Size([2, 3, 8, 8])\n"
     ]
    }
   ],
   "source": [
    "print(torch.matmul(c.transpose(-1, -2), c).shape)"
   ]
  },
  {
   "cell_type": "markdown",
   "metadata": {},
   "source": [
    "# 1"
   ]
  }
 ],
 "metadata": {
  "kernelspec": {
   "display_name": "transformers",
   "language": "python",
   "name": "python3"
  },
  "language_info": {
   "codemirror_mode": {
    "name": "ipython",
    "version": 3
   },
   "file_extension": ".py",
   "mimetype": "text/x-python",
   "name": "python",
   "nbconvert_exporter": "python",
   "pygments_lexer": "ipython3",
   "version": "3.11.4"
  },
  "orig_nbformat": 4
 },
 "nbformat": 4,
 "nbformat_minor": 2
}
