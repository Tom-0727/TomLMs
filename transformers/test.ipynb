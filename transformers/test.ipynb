{
 "cells": [
  {
   "cell_type": "code",
   "execution_count": null,
   "metadata": {},
   "outputs": [],
   "source": [
    "# importing required libraries\n",
    "import torch.nn as nn\n",
    "import torch\n",
    "import torch.nn.functional as F\n",
    "import math,copy,re\n",
    "import warnings\n",
    "import pandas as pd\n",
    "import numpy as np\n",
    "import seaborn as sns\n",
    "import torchtext\n",
    "import matplotlib.pyplot as plt\n",
    "warnings.simplefilter(\"ignore\")\n",
    "print(torch.__version__)"
   ]
  },
  {
   "cell_type": "markdown",
   "metadata": {},
   "source": [
    "# Embeddings"
   ]
  },
  {
   "cell_type": "markdown",
   "metadata": {},
   "source": [
    "## Word Embedding"
   ]
  },
  {
   "cell_type": "code",
   "execution_count": null,
   "metadata": {},
   "outputs": [],
   "source": [
    "class Embedding(nn.Module):\n",
    "    def __init__(self, vocab_size, embed_dim):\n",
    "        super(Embedding, self).__init__()\n",
    "        self.embed = nn.Embedding(vocab_size, embed_dim)\n",
    "\n",
    "    def forward(self, x):\n",
    "        out = self.embed(x)\n",
    "        return out"
   ]
  },
  {
   "cell_type": "markdown",
   "metadata": {},
   "source": [
    "## Positional Embedding\n",
    "- 在nn.Module中，register_buffer()是一个方法，用于在PyTorch模型中注册一个缓冲区（buffer）。缓冲区是一种状态，不同于模型的参数，它们不会被优化，但可以在模型中使用。通常，缓冲区用于存储与模型相关的不可训练数据，例如在BatchNormalization中使用的运行统计信息"
   ]
  },
  {
   "cell_type": "code",
   "execution_count": null,
   "metadata": {},
   "outputs": [],
   "source": [
    "class PositionalEmbedding(nn.Module):\n",
    "    def __init__(self, max_seq_len, embed_model_dim):\n",
    "        super(PositionalEmbedding, self).__init__()\n",
    "        self.embed_dim = embed_model_dim\n",
    "\n",
    "        pe = torch.zeros(max_seq_len, embed_model_dim)\n",
    "        for pos in range(max_seq_len):\n",
    "            for i in range(0, self.embed_dim, 2):\n",
    "                pe[pos, i] = math.sin(pos / (10000 ** ((2 * i)/self.embed_dim)))\n",
    "                pe[pos, i + 1] = math.cos(pos / (10000 ** ((2 * (i + 1))/self.embed_dim)))\n",
    "        pe = pe.unsqueeze(0)  # add a new dimension of size 1 at the pos 0\n",
    "        self.register_buffer('pe', pe)\n",
    "\n",
    "    def forward(self, x):\n",
    "\n",
    "        # Make embeddings relatively larger\n",
    "        x = x * math.sqrt(self.embed_dim)\n",
    "\n",
    "        # Add constant to embedding\n",
    "        seq_len = x.size(1)  # get the size of dim=1\n",
    "        x = x + torch.autograd.Variable(self.pe[:,:seq_len], requires_grad=False)\n",
    "        \n",
    "        return x"
   ]
  },
  {
   "cell_type": "markdown",
   "metadata": {},
   "source": [
    "# Attention"
   ]
  },
  {
   "cell_type": "markdown",
   "metadata": {},
   "source": [
    "## Multi-Head Self-Attention\n",
    "- with mask mechanism"
   ]
  },
  {
   "cell_type": "code",
   "execution_count": null,
   "metadata": {},
   "outputs": [],
   "source": [
    "class MultiHeadAttention(nn.Module):\n",
    "    def __init__(self, \n",
    "                 embed_dim: int = 512, \n",
    "                 n_heads: int = 8):\n",
    "        super(MultiHeadAttention, self).__init__()\n",
    "\n",
    "        # Basic Attributes\n",
    "        self.embed_dim = embed_dim\n",
    "        self.n_heads = n_heads\n",
    "        self.dk = embed_dim // n_heads\n",
    "\n",
    "        # Query, Key, Value : input_dim = d_model//n_heads = dk\n",
    "        self.Q = nn.Linear(self.dk, self.dk, bias=False)\n",
    "        self.K = nn.Linear(self.dk, self.dk, bias=False)\n",
    "        self.V = nn.Linear(self.dk, self.dk, bias=False)\n",
    "        self.out = nn.Linear(self.n_heads * self.dk, self.embed_dim)\n",
    "\n",
    "    def forward(self, key, query, value, mask = None):\n",
    "        \n",
    "        # Get dim info\n",
    "        batch_size = key.size(0)\n",
    "        seq_length = key.size(1)\n",
    "\n",
    "        # query dimension could change in decoder during inference\n",
    "        seq_length_query = query.size(1)\n",
    "\n",
    "        # (batch_size x seq_length x 8 x 64)\n",
    "        key = key.view(batch_size, seq_length, self.n_heads, self.dk)\n",
    "        query = query.view(batch_size, seq_length_query, self.n_heads, self.dk)\n",
    "        value = value.view(batch_size, seq_length, self.n_heads, self.dk)\n",
    "\n",
    "        k = self.K(key)\n",
    "        q = self.Q(query)\n",
    "        v = self.V(value)\n",
    "\n",
    "        # (batch_size, n_heads, seq_len, dk)\n",
    "        q = q.transpose(1, 2)\n",
    "        k = k.transpose(1, 2)\n",
    "        v = v.transpose(1, 2)\n",
    "\n",
    "        # computes attention\n",
    "        k_T = k.transpose(-1, -2)  # (batch_size, n_heads, dk, seq_len)\n",
    "        product = torch.matmul(q, k_T)/math.sqrt(self.dk)\n",
    "\n",
    "        if mask is not None:\n",
    "            product = product.masked_fill(mask == 0, float(-1e20))\n",
    "\n",
    "        scores = torch.matmul(F.softmax(product, dim=-1), v)\n",
    "\n",
    "        # concatenate heads and put through final linear layer\n",
    "        # (32x8x10x64) -> (32x10x8x64)  -> (batch_size, seq_len, d_model)\n",
    "        concat = scores.transpose(1, 2).contiguous().view(batch_size, seq_length_query, self.dk*self.n_heads)\n",
    "\n",
    "        output = self.out(concat)\n",
    "\n",
    "        return output\n",
    "\n"
   ]
  },
  {
   "cell_type": "markdown",
   "metadata": {},
   "source": [
    "# Transformer"
   ]
  },
  {
   "cell_type": "markdown",
   "metadata": {},
   "source": [
    "## Encoder"
   ]
  },
  {
   "cell_type": "code",
   "execution_count": null,
   "metadata": {},
   "outputs": [],
   "source": [
    "class EncodeBlock(nn.Module):\n",
    "    def __init__(self, embed_dim, expansion_factor=4, n_heads=8):\n",
    "        super(EncodeBlock, self).__init__()\n",
    "\n",
    "        self.attention = MultiHeadAttention(embed_dim, n_heads)\n",
    "\n",
    "        self.norm1 = nn.LayerNorm(embed_dim)\n",
    "        self.norm2 = nn.LayerNorm(embed_dim)\n",
    "\n",
    "        self.feed_forward = nn.Sequential(\n",
    "            nn.Linear(embed_dim, embed_dim * expansion_factor),  # 512 * 2048\n",
    "            nn.ReLU(),\n",
    "            nn.Linear(embed_dim * expansion_factor, embed_dim),\n",
    "        )\n",
    "\n",
    "        self.dropout1 = nn.Dropout(0.1)\n",
    "        self.dropout2 = nn.Dropout(0.1)\n",
    "\n",
    "    def forward(self, key, query, value):\n",
    "        attention_out = self.attention(key, query, value)\n",
    "        attention_res_out = attention_out + value\n",
    "        norm1_out = self.dropout1(self.norm1(attention_res_out))\n",
    "\n",
    "        ff_out = self.feed_forward(norm1_out)\n",
    "        ff_res_out = ff_out + norm1_out\n",
    "        norm2_out = self.dropout2(self.norm2(ff_res_out))\n",
    "\n",
    "        return norm2_out"
   ]
  },
  {
   "cell_type": "code",
   "execution_count": null,
   "metadata": {},
   "outputs": [],
   "source": [
    "class Encoder(nn.Module):\n",
    "    def __init__(self, seq_len, vocab_size, embed_dim, num_layers=6, expansion_factor=4, n_heads=8):\n",
    "        super(Encoder, self).__init__()\n",
    "\n",
    "        self.embedding_layer = Embedding(vocab_size, embed_dim)\n",
    "        self.positional_encoder = PositionalEmbedding(seq_len, embed_dim)\n",
    "\n",
    "        self.layers = nn.ModuleList([EncodeBlock(embed_dim, expansion_factor, n_heads) for _ in range(num_layers)])\n",
    "        self.dropout = nn.Dropout(0.1)\n",
    "    def forward(self, x):\n",
    "        embed_out = self.embedding_layer(x)\n",
    "        out = self.positional_encoder(embed_out)\n",
    "        out = self.dropout(out)\n",
    "        for layer in self.layers:\n",
    "            out = layer(out, out, out)\n",
    "        \n",
    "        return out"
   ]
  },
  {
   "cell_type": "markdown",
   "metadata": {},
   "source": [
    "## Decoder"
   ]
  },
  {
   "cell_type": "code",
   "execution_count": null,
   "metadata": {},
   "outputs": [],
   "source": [
    "class DecoderBlock(nn.Module):\n",
    "    def __init__(self, embed_dim, expansion_factor=4, n_heads=8):\n",
    "        super(DecoderBlock, self).__init__()\n",
    "\n",
    "        self.attention = MultiHeadAttention(embed_dim, n_heads)\n",
    "        self.norm = nn.LayerNorm(embed_dim)\n",
    "        self.dropout = nn.Dropout(0.1)\n",
    "        self.transformer_block = EncodeBlock(embed_dim, expansion_factor, n_heads)\n",
    "\n",
    "    def forward(self, key, value, x, mask):\n",
    "\n",
    "        # Only pass mask to the first attention block\n",
    "        attention = self.attention(x, x, x, mask)\n",
    "        query = self.dropout(self.norm(attention + x))\n",
    "\n",
    "        out = self.transformer_block(key, value, query)\n",
    "\n",
    "        return out"
   ]
  },
  {
   "cell_type": "code",
   "execution_count": null,
   "metadata": {},
   "outputs": [],
   "source": [
    "class Decoder(nn.Module):\n",
    "    def __init__(self, t_vocab_size, embed_dim, seq_len, num_layers=6, expansion_factor=4, n_heads=8):\n",
    "        super(Decoder, self).__init__()\n",
    "\n",
    "        self.word_embedding = Embedding(t_vocab_size, embed_dim)\n",
    "        self.pos_embedding = PositionalEmbedding(seq_len, embed_dim)\n",
    "        self.layers = nn.ModuleList(\n",
    "            [\n",
    "                DecoderBlock(embed_dim, expansion_factor, n_heads)\n",
    "                for _ in range(num_layers)\n",
    "            ]\n",
    "        )\n",
    "        self.fc_out = nn.Linear(embed_dim, t_vocab_size)\n",
    "        self.dropout = nn.Dropout(0.1)\n",
    "\n",
    "    def forward(self, x, encoder_out, mask):\n",
    "        x = self.word_embedding(x)\n",
    "        x = self.pos_embedding(x)\n",
    "\n",
    "        # dropout in each pos+embeddings & before each sub_layer\n",
    "        x = self.dropout(x)\n",
    "\n",
    "        for layer in self.layers:\n",
    "            x = layer(encoder_out, encoder_out, x, mask)  # dropout had made in sub_layer\n",
    "\n",
    "        out = F.softmax(self.fc_out(x))\n",
    "        return out\n",
    "        "
   ]
  },
  {
   "cell_type": "markdown",
   "metadata": {},
   "source": [
    "## Transformer"
   ]
  },
  {
   "cell_type": "code",
   "execution_count": null,
   "metadata": {},
   "outputs": [],
   "source": [
    "class Transformer(nn.Module):\n",
    "    def __init__(self, embed_dim, s_vocab_size, t_vocab_size, seq_len, \n",
    "                 num_layers = 6, \n",
    "                 expansion_factor = 4,\n",
    "                 n_heads = 8):\n",
    "        super(Transformer, self).__init__()\n",
    "\n",
    "        self.t_vocab_size = t_vocab_size\n",
    "        self.encoder = Encoder(seq_len = seq_len, \n",
    "                               vocab_size = s_vocab_size, \n",
    "                               embed_dim = embed_dim, \n",
    "                               num_layers = num_layers, \n",
    "                               expansion_factor = expansion_factor, \n",
    "                               n_heads = n_heads)\n",
    "        self.decoder = Decoder(t_vocab_size = t_vocab_size, \n",
    "                               embed_dim = embed_dim, \n",
    "                               seq_len = seq_len, \n",
    "                               num_layers = num_layers, \n",
    "                               expansion_factor = expansion_factor, \n",
    "                               n_heads = n_heads)\n",
    "    \n",
    "    # Get the triangle mask for the target sequence\n",
    "    def make_trg_mask(self, trg):\n",
    "        batch_size, trg_len = trg.shape\n",
    "        trg_mask = torch.tril(torch.ones((trg_len, trg_len))).expand(batch_size, 1, trg_len, trg_len)\n",
    "        return trg_mask\n",
    "    \n",
    "    # For inference\n",
    "    def decode(self, src, trg):\n",
    "        trg_mask = self.make_trg_mask(trg)\n",
    "        encoder_out = self.encoder(src)\n",
    "        out_labels = []\n",
    "        # batch_size, seq_len = src.shape[0], src.shape[1]\n",
    "        seq_len = trg.shape[1]\n",
    "\n",
    "        out = trg\n",
    "        for i in range(seq_len):\n",
    "            out = self.decoder(out, encoder_out, trg_mask)\n",
    "            \n",
    "            # take the last token\n",
    "            out = out[:,-1,:]\n",
    "            out = out.argmax(-1)\n",
    "            out_labels.append(out.item())\n",
    "            out = torch.unsqueeze(out, axis=0)\n",
    "        \n",
    "        return out_labels\n",
    "    \n",
    "    # For training\n",
    "    def forward(self, src, trg):\n",
    "        trg_mask = self.make_trg_mask(trg)\n",
    "        encoder_out = self.encoder(src)\n",
    "        outputs = self.decoder(trg, encoder_out, trg_mask)\n",
    "        return outputs\n"
   ]
  },
  {
   "cell_type": "code",
   "execution_count": null,
   "metadata": {},
   "outputs": [],
   "source": []
  },
  {
   "cell_type": "markdown",
   "metadata": {},
   "source": [
    "# Test"
   ]
  },
  {
   "cell_type": "code",
   "execution_count": 1,
   "metadata": {},
   "outputs": [
    {
     "name": "stdout",
     "output_type": "stream",
     "text": [
      "torch.Size([2, 12]) torch.Size([2, 12])\n"
     ]
    },
    {
     "data": {
      "text/plain": [
       "Transformer(\n",
       "  (encoder): Encoder(\n",
       "    (embedding_layer): Embedding(\n",
       "      (embed): Embedding(11, 512)\n",
       "    )\n",
       "    (positional_encoder): PositionalEmbedding()\n",
       "    (layers): ModuleList(\n",
       "      (0-5): 6 x EncodeBlock(\n",
       "        (attention): MultiHeadAttention(\n",
       "          (Q): Linear(in_features=64, out_features=64, bias=False)\n",
       "          (K): Linear(in_features=64, out_features=64, bias=False)\n",
       "          (V): Linear(in_features=64, out_features=64, bias=False)\n",
       "          (out): Linear(in_features=512, out_features=512, bias=True)\n",
       "        )\n",
       "        (norm1): LayerNorm((512,), eps=1e-05, elementwise_affine=True)\n",
       "        (norm2): LayerNorm((512,), eps=1e-05, elementwise_affine=True)\n",
       "        (feed_forward): Sequential(\n",
       "          (0): Linear(in_features=512, out_features=2048, bias=True)\n",
       "          (1): ReLU()\n",
       "          (2): Linear(in_features=2048, out_features=512, bias=True)\n",
       "        )\n",
       "        (dropout1): Dropout(p=0.1, inplace=False)\n",
       "        (dropout2): Dropout(p=0.1, inplace=False)\n",
       "      )\n",
       "    )\n",
       "    (dropout): Dropout(p=0.1, inplace=False)\n",
       "  )\n",
       "  (decoder): Decoder(\n",
       "    (word_embedding): Embedding(\n",
       "      (embed): Embedding(11, 512)\n",
       "    )\n",
       "    (pos_embedding): PositionalEmbedding()\n",
       "    (layers): ModuleList(\n",
       "      (0-5): 6 x DecoderBlock(\n",
       "        (attention): MultiHeadAttention(\n",
       "          (Q): Linear(in_features=64, out_features=64, bias=False)\n",
       "          (K): Linear(in_features=64, out_features=64, bias=False)\n",
       "          (V): Linear(in_features=64, out_features=64, bias=False)\n",
       "          (out): Linear(in_features=512, out_features=512, bias=True)\n",
       "        )\n",
       "        (norm): LayerNorm((512,), eps=1e-05, elementwise_affine=True)\n",
       "        (dropout): Dropout(p=0.1, inplace=False)\n",
       "        (transformer_block): EncodeBlock(\n",
       "          (attention): MultiHeadAttention(\n",
       "            (Q): Linear(in_features=64, out_features=64, bias=False)\n",
       "            (K): Linear(in_features=64, out_features=64, bias=False)\n",
       "            (V): Linear(in_features=64, out_features=64, bias=False)\n",
       "            (out): Linear(in_features=512, out_features=512, bias=True)\n",
       "          )\n",
       "          (norm1): LayerNorm((512,), eps=1e-05, elementwise_affine=True)\n",
       "          (norm2): LayerNorm((512,), eps=1e-05, elementwise_affine=True)\n",
       "          (feed_forward): Sequential(\n",
       "            (0): Linear(in_features=512, out_features=2048, bias=True)\n",
       "            (1): ReLU()\n",
       "            (2): Linear(in_features=2048, out_features=512, bias=True)\n",
       "          )\n",
       "          (dropout1): Dropout(p=0.1, inplace=False)\n",
       "          (dropout2): Dropout(p=0.1, inplace=False)\n",
       "        )\n",
       "      )\n",
       "    )\n",
       "    (fc_out): Linear(in_features=512, out_features=11, bias=True)\n",
       "    (dropout): Dropout(p=0.1, inplace=False)\n",
       "  )\n",
       ")"
      ]
     },
     "execution_count": 1,
     "metadata": {},
     "output_type": "execute_result"
    }
   ],
   "source": [
    "from transformer import *\n",
    "\n",
    "src_vocab_size = 11\n",
    "target_vocab_size = 11\n",
    "num_layers = 6\n",
    "seq_length= 12\n",
    "\n",
    "\n",
    "# let 0 be sos token and 1 be eos token\n",
    "src = torch.tensor([[0, 2, 5, 6, 4, 3, 9, 5, 2, 9, 10, 1], \n",
    "                    [0, 2, 8, 7, 3, 4, 5, 6, 7, 2, 10, 1]])\n",
    "target = torch.tensor([[0, 1, 7, 4, 3, 5, 9, 2, 8, 10, 9, 1], \n",
    "                       [0, 1, 5, 6, 2, 4, 7, 6, 2, 8, 10, 1]])\n",
    "\n",
    "print(src.shape,target.shape)\n",
    "model = Transformer(embed_dim = 512, \n",
    "                    s_vocab_size = src_vocab_size, \n",
    "                    t_vocab_size = target_vocab_size, seq_len = seq_length, \n",
    "                    num_layers = num_layers, \n",
    "                    expansion_factor = 4,\n",
    "                    n_heads = 8)\n",
    "model"
   ]
  }
 ],
 "metadata": {
  "kernelspec": {
   "display_name": "transformers",
   "language": "python",
   "name": "python3"
  },
  "language_info": {
   "codemirror_mode": {
    "name": "ipython",
    "version": 3
   },
   "file_extension": ".py",
   "mimetype": "text/x-python",
   "name": "python",
   "nbconvert_exporter": "python",
   "pygments_lexer": "ipython3",
   "version": "3.11.4"
  },
  "orig_nbformat": 4
 },
 "nbformat": 4,
 "nbformat_minor": 2
}
